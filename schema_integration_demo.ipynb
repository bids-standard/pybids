{
 "cells": [
  {
   "cell_type": "markdown",
   "metadata": {},
   "source": [
    "# BIDS Schema Integration Demo\n",
    "\n",
    "This notebook demonstrates the new BIDS schema integration features in PyBIDS, showing how the new schema-based configuration compares to the legacy JSON-based configuration."
   ]
  },
  {
   "cell_type": "code",
   "execution_count": 1,
   "metadata": {},
   "outputs": [],
   "source": [
    "from bids import BIDSLayout\n",
    "from bids.tests import get_test_data_path\n",
    "import os"
   ]
  },
  {
   "cell_type": "markdown",
   "metadata": {},
   "source": [
    "## Setup: Using a test dataset\n",
    "\n",
    "We'll use the 7T TRT dataset that comes with PyBIDS for testing."
   ]
  },
  {
   "cell_type": "code",
   "execution_count": 2,
   "metadata": {},
   "outputs": [
    {
     "name": "stdout",
     "output_type": "stream",
     "text": [
      "Using dataset at: /home/ashley/repos/bids/pybids/tests/data/7t_trt\n",
      "total 76\n",
      "drwxr-xr-x 12 ashley ashley 4096 Aug 21 08:59 .\n",
      "drwxr-xr-x  8 ashley ashley 4096 Aug 21 08:59 ..\n",
      "-rw-r--r--  1 ashley ashley    0 Aug 21 08:59 README\n",
      "-rw-r--r--  1 ashley ashley   55 Aug 21 08:59 dataset_description.json\n",
      "-rw-r--r--  1 ashley ashley  482 Aug 21 08:59 participants.tsv\n",
      "drwxr-xr-x  4 ashley ashley 4096 Aug 21 08:59 sub-01\n",
      "drwxr-xr-x  4 ashley ashley 4096 Aug 21 08:59 sub-02\n",
      "drwxr-xr-x  4 ashley ashley 4096 Aug 21 08:59 sub-03\n",
      "drwxr-xr-x  4 ashley ashley 4096 Aug 21 08:59 sub-04\n"
     ]
    }
   ],
   "source": [
    "# Get path to test dataset\n",
    "data_path = os.path.join(get_test_data_path(), '7t_trt')\n",
    "print(f\"Using dataset at: {data_path}\")\n",
    "\n",
    "# List the first few files to see the structure\n",
    "!ls -la {data_path} | head -10"
   ]
  },
  {
   "cell_type": "markdown",
   "metadata": {},
   "source": [
    "## Part 1: Legacy JSON-based Configuration\n",
    "\n",
    "The traditional PyBIDS approach uses JSON configuration files to define entities and their patterns."
   ]
  },
  {
   "cell_type": "code",
   "execution_count": 3,
   "metadata": {},
   "outputs": [
    {
     "name": "stdout",
     "output_type": "stream",
     "text": [
      "Legacy layout initialized with 339 files\n",
      "\n",
      "Available entities: ['CogAtlasID', 'Columns', 'EchoTime', 'EchoTime1', 'EchoTime2', 'EffectiveEchoSpacing', 'IntendedFor', 'MTState', 'PhaseEncodingDirection', 'RepetitionTime', 'SamplingFrequency', 'SliceEncodingDirection', 'SliceTiming', 'StartTime', 'TaskName', 'acquisition', 'ceagent', 'chunk', 'datatype', 'direction', 'echo', 'extension', 'flip', 'fmap', 'inv', 'modality', 'mt', 'nucleus', 'part', 'proc', 'reconstruction', 'recording', 'run', 'sample', 'scans', 'session', 'space', 'staining', 'subject', 'suffix', 'task', 'tracer', 'tracksys', 'volume']\n",
      "\n",
      "Layout info:\n",
      "BIDS Layout: .../bids/pybids/tests/data/7t_trt | Subjects: 10 | Sessions: 20 | Runs: 20\n"
     ]
    }
   ],
   "source": [
    "# Initialize layout with legacy config (this is the default)\n",
    "layout_legacy = BIDSLayout(data_path, config=['bids'])\n",
    "print(f\"Legacy layout initialized with {len(layout_legacy.get())} files\")\n",
    "print(f\"\\nAvailable entities: {sorted(layout_legacy.get_entities().keys())}\")\n",
    "\n",
    "# Print basic layout information like in the docs tutorial\n",
    "print(f\"\\nLayout info:\")\n",
    "print(layout_legacy)"
   ]
  },
  {
   "cell_type": "code",
   "execution_count": 4,
   "metadata": {},
   "outputs": [
    {
     "name": "stdout",
     "output_type": "stream",
     "text": [
      "Found 6 BOLD files for subject 01:\n",
      "  sub-01_ses-1_task-rest_acq-fullbrain_run-1_bold.nii.gz\n",
      "  sub-01_ses-1_task-rest_acq-fullbrain_run-2_bold.nii.gz\n",
      "  sub-01_ses-1_task-rest_acq-prefrontal_bold.nii.gz\n",
      "  sub-01_ses-2_task-rest_acq-fullbrain_run-1_bold.nii.gz\n",
      "  sub-01_ses-2_task-rest_acq-fullbrain_run-2_bold.nii.gz\n",
      "  sub-01_ses-2_task-rest_acq-prefrontal_bold.nii.gz\n",
      "\n",
      "Compare return types:\n",
      "return_types=[<class 'bids.layout.models.BIDSImageFile'>, <class 'bids.layout.models.BIDSImageFile'>]\n",
      "return_types=[<class 'str'>, <class 'str'>]\n"
     ]
    }
   ],
   "source": [
    "# Query example: Get all BOLD files for subject 01\n",
    "bold_files_legacy = layout_legacy.get(\n",
    "    subject='01', \n",
    "    suffix='bold', \n",
    "    extension='nii.gz',\n",
    "    return_type='filename'  # Returns filenames instead of BIDSFile objects\n",
    ")\n",
    "print(f\"Found {len(bold_files_legacy)} BOLD files for subject 01:\")\n",
    "for f in bold_files_legacy:\n",
    "    print(f\"  {os.path.basename(f)}\")\n",
    "\n",
    "# Show the difference between return types like in docs\n",
    "print(f\"\\nCompare return types:\")\n",
    "bold_objects = layout_legacy.get(subject='01', suffix='bold', extension='nii.gz')[:2]\n",
    "bold_filenames = layout_legacy.get(subject='01', suffix='bold', extension='nii.gz', return_type='filename')[:2]\n",
    "\n",
    "print(f\"return_types={[type(obj) for obj in bold_objects]}\")\n",
    "print(f\"return_types={[type(fname) for fname in bold_filenames]}\")"
   ]
  },
  {
   "cell_type": "markdown",
   "metadata": {},
   "source": [
    "## Part 2: New Schema-based Configuration\n",
    "\n",
    "The new approach uses the BIDS schema directly via `bidsschematools` to understand the dataset structure."
   ]
  },
  {
   "cell_type": "code",
   "execution_count": 5,
   "metadata": {},
   "outputs": [
    {
     "name": "stdout",
     "output_type": "stream",
     "text": [
      "Schema-based layout initialized with 339 files\n",
      "\n",
      "Available entities: ['CogAtlasID', 'Columns', 'EchoTime', 'EchoTime1', 'EchoTime2', 'EffectiveEchoSpacing', 'IntendedFor', 'MTState', 'PhaseEncodingDirection', 'RepetitionTime', 'SamplingFrequency', 'SliceEncodingDirection', 'SliceTiming', 'StartTime', 'TaskName', 'acquisition', 'ceagent', 'chunk', 'datatype', 'density', 'description', 'direction', 'echo', 'extension', 'flip', 'hemisphere', 'inversion', 'label', 'modality', 'mtransfer', 'nucleus', 'part', 'processing', 'reconstruction', 'recording', 'resolution', 'run', 'sample', 'segmentation', 'session', 'space', 'split', 'stain', 'subject', 'suffix', 'task', 'tracer', 'tracksys', 'volume']\n",
      "\n",
      "Layout info:\n",
      "BIDS Layout: .../bids/pybids/tests/data/7t_trt | Subjects: 10 | Sessions: 20 | Runs: 20\n"
     ]
    }
   ],
   "source": [
    "# Initialize layout with schema-based config\n",
    "# This uses Config.load('bids-schema') internally when you pass 'bids-schema' in config\n",
    "layout_schema = BIDSLayout(data_path, config=['bids-schema'])\n",
    "print(f\"Schema-based layout initialized with {len(layout_schema.get())} files\")\n",
    "print(f\"\\nAvailable entities: {sorted(layout_schema.get_entities().keys())}\")\n",
    "\n",
    "# Print basic layout information\n",
    "print(f\"\\nLayout info:\")\n",
    "print(layout_schema)"
   ]
  },
  {
   "cell_type": "code",
   "execution_count": 6,
   "metadata": {},
   "outputs": [
    {
     "name": "stdout",
     "output_type": "stream",
     "text": [
      "Found 6 BOLD files for subject 01:\n",
      "  sub-01_ses-1_task-rest_acq-fullbrain_run-1_bold.nii.gz\n",
      "  sub-01_ses-1_task-rest_acq-fullbrain_run-2_bold.nii.gz\n",
      "  sub-01_ses-1_task-rest_acq-prefrontal_bold.nii.gz\n",
      "  sub-01_ses-2_task-rest_acq-fullbrain_run-1_bold.nii.gz\n",
      "  sub-01_ses-2_task-rest_acq-fullbrain_run-2_bold.nii.gz\n",
      "  sub-01_ses-2_task-rest_acq-prefrontal_bold.nii.gz\n",
      "\n",
      "Compare return types:\n",
      "return_types=[<class 'bids.layout.models.BIDSImageFile'>, <class 'bids.layout.models.BIDSImageFile'>]\n",
      "return_types=[<class 'str'>, <class 'str'>]\n"
     ]
    }
   ],
   "source": [
    "# Same query with schema-based layout\n",
    "bold_files_schema = layout_schema.get(\n",
    "    subject='01', \n",
    "    suffix='bold', \n",
    "    extension='nii.gz',\n",
    "    return_type='filename'\n",
    ")\n",
    "print(f\"Found {len(bold_files_schema)} BOLD files for subject 01:\")\n",
    "for f in bold_files_schema:\n",
    "    print(f\"  {os.path.basename(f)}\")\n",
    "\n",
    "# Show the difference between return types like in docs\n",
    "print(f\"\\nCompare return types:\")\n",
    "bold_objects_schema = layout_schema.get(subject='01', suffix='bold', extension='nii.gz')[:2]\n",
    "bold_filenames_schema = layout_schema.get(subject='01', suffix='bold', extension='nii.gz', return_type='filename')[:2]\n",
    "\n",
    "print(f\"return_types={[type(obj) for obj in bold_objects_schema]}\")\n",
    "print(f\"return_types={[type(fname) for fname in bold_filenames_schema]}\")\n"
   ]
  },
  {
   "cell_type": "markdown",
   "metadata": {},
   "source": [
    "## Part 3: Comparing the Two Approaches\n",
    "\n",
    "Let's verify that both approaches give us the same results."
   ]
  },
  {
   "cell_type": "code",
   "execution_count": 7,
   "metadata": {},
   "outputs": [
    {
     "name": "stdout",
     "output_type": "stream",
     "text": [
      "Legacy layout: 339 files\n",
      "Schema layout: 339 files\n",
      "\n",
      "Match: True\n"
     ]
    }
   ],
   "source": [
    "# Compare file counts\n",
    "legacy_count = len(layout_legacy.get())\n",
    "schema_count = len(layout_schema.get())\n",
    "\n",
    "print(f\"Legacy layout: {legacy_count} files\")\n",
    "print(f\"Schema layout: {schema_count} files\")\n",
    "print(f\"\\nMatch: {legacy_count == schema_count}\")"
   ]
  },
  {
   "cell_type": "code",
   "execution_count": 8,
   "metadata": {},
   "outputs": [
    {
     "name": "stdout",
     "output_type": "stream",
     "text": [
      "Legacy entities: 44\n",
      "Schema entities: 49\n",
      "\n",
      "Entities only in legacy: ['fmap', 'inv', 'mt', 'proc', 'scans', 'staining']\n",
      "\n",
      "Entities only in schema: ['density', 'description', 'hemisphere', 'inversion', 'label', 'mtransfer', 'processing', 'resolution', 'segmentation', 'split', 'stain']\n"
     ]
    }
   ],
   "source": [
    "# Compare entities\n",
    "legacy_entities = set(layout_legacy.get_entities().keys())\n",
    "schema_entities = set(layout_schema.get_entities().keys())\n",
    "\n",
    "print(f\"Legacy entities: {len(legacy_entities)}\")\n",
    "print(f\"Schema entities: {len(schema_entities)}\")\n",
    "\n",
    "# Check for differences\n",
    "only_legacy = legacy_entities - schema_entities\n",
    "only_schema = schema_entities - legacy_entities\n",
    "\n",
    "if only_legacy:\n",
    "    print(f\"\\nEntities only in legacy: {sorted(only_legacy)}\")\n",
    "if only_schema:\n",
    "    print(f\"\\nEntities only in schema: {sorted(only_schema)}\")\n",
    "if not only_legacy and not only_schema:\n",
    "    print(\"\\nAll entities match!\")"
   ]
  },
  {
   "cell_type": "code",
   "execution_count": 9,
   "metadata": {},
   "outputs": [
    {
     "name": "stdout",
     "output_type": "stream",
     "text": [
      "Query: {'suffix': 'bold', 'extension': 'nii.gz'}\n",
      "Legacy: 60 files\n",
      "Schema: 60 files\n",
      "✓ Results match!\n",
      "\n",
      "Query: {'suffix': 'T1w', 'extension': 'nii.gz'}\n",
      "Legacy: 10 files\n",
      "Schema: 10 files\n",
      "✓ Results match!\n",
      "\n",
      "Query: {'subject': '01', 'suffix': 'scans', 'extension': 'tsv'}\n",
      "Legacy: 2 files\n",
      "Schema: 2 files\n",
      "✓ Results match!\n",
      "\n"
     ]
    }
   ],
   "source": [
    "# Compare specific query results\n",
    "def compare_queries(layout1, layout2, name1=\"Layout 1\", name2=\"Layout 2\", **kwargs):\n",
    "    \"\"\"Compare results from two layouts for the same query.\"\"\"\n",
    "    result1 = set(layout1.get(return_type='filename', **kwargs))\n",
    "    result2 = set(layout2.get(return_type='filename', **kwargs))\n",
    "    \n",
    "    print(f\"Query: {kwargs}\")\n",
    "    print(f\"{name1}: {len(result1)} files\")\n",
    "    print(f\"{name2}: {len(result2)} files\")\n",
    "    \n",
    "    if result1 == result2:\n",
    "        print(\"✓ Results match!\\n\")\n",
    "    else:\n",
    "        only1 = result1 - result2\n",
    "        only2 = result2 - result1\n",
    "        if only1:\n",
    "            print(f\"Only in {name1}: {[os.path.basename(f) for f in only1]}\")\n",
    "        if only2:\n",
    "            print(f\"Only in {name2}: {[os.path.basename(f) for f in only2]}\")\n",
    "        print()\n",
    "\n",
    "# Test various queries\n",
    "compare_queries(layout_legacy, layout_schema, \"Legacy\", \"Schema\", \n",
    "                suffix='bold', extension='nii.gz')\n",
    "\n",
    "compare_queries(layout_legacy, layout_schema, \"Legacy\", \"Schema\",\n",
    "                suffix='T1w', extension='nii.gz')\n",
    "\n",
    "# 1. Test with scans TSV files (these exist)\n",
    "compare_queries(layout_legacy, layout_schema, \"Legacy\", \"Schema\",\n",
    "subject='01', suffix='scans', extension='tsv')\n"
   ]
  },
  {
   "cell_type": "markdown",
   "metadata": {},
   "source": [
    "## Part 5: Performance Comparison\n",
    "\n",
    "Let's compare the initialization time for both approaches."
   ]
  },
  {
   "cell_type": "code",
   "execution_count": 10,
   "metadata": {},
   "outputs": [
    {
     "name": "stdout",
     "output_type": "stream",
     "text": [
      "Legacy initialization: 0.684 seconds\n",
      "Schema initialization: 0.679 seconds\n",
      "\n",
      "Difference: 0.005 seconds\n",
      "Schema is faster by 0.8%\n"
     ]
    }
   ],
   "source": [
    "import time\n",
    "\n",
    "# Time legacy initialization\n",
    "start = time.time()\n",
    "layout_legacy_timed = BIDSLayout(data_path, config=['bids'], reset_database=True)\n",
    "legacy_time = time.time() - start\n",
    "\n",
    "# Time schema initialization  \n",
    "start = time.time()\n",
    "layout_schema_timed = BIDSLayout(data_path, config=['bids-schema'], reset_database=True)\n",
    "schema_time = time.time() - start\n",
    "\n",
    "print(f\"Legacy initialization: {legacy_time:.3f} seconds\")\n",
    "print(f\"Schema initialization: {schema_time:.3f} seconds\")\n",
    "print(f\"\\nDifference: {abs(legacy_time - schema_time):.3f} seconds\")\n",
    "print(f\"Schema is {'faster' if schema_time < legacy_time else 'slower'} by {abs(1 - schema_time/legacy_time)*100:.1f}%\")"
   ]
  },
  {
   "cell_type": "code",
   "execution_count": null,
   "metadata": {},
   "outputs": [],
   "source": []
  }
 ],
 "metadata": {
  "kernelspec": {
   "display_name": "Python 3",
   "language": "python",
   "name": "python3"
  },
  "language_info": {
   "codemirror_mode": {
    "name": "ipython",
    "version": 3
   },
   "file_extension": ".py",
   "mimetype": "text/x-python",
   "name": "python",
   "nbconvert_exporter": "python",
   "pygments_lexer": "ipython3",
   "version": "3.10.18"
  }
 },
 "nbformat": 4,
 "nbformat_minor": 4
}
